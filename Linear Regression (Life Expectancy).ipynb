{
 "cells": [
  {
   "cell_type": "code",
   "execution_count": null,
   "id": "446865b3-4c4f-4f2a-8003-5a143f7b1dc6",
   "metadata": {},
   "outputs": [],
   "source": []
  }
 ],
 "metadata": {
  "kernelspec": {
   "display_name": "",
   "name": ""
  },
  "language_info": {
   "name": ""
  }
 },
 "nbformat": 4,
 "nbformat_minor": 5
}
