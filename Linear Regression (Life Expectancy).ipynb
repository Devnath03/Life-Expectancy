{
 "cells": [
  {
   "cell_type": "markdown",
   "id": "60608535-ad13-43d4-b5c2-dcca53e03b18",
   "metadata": {},
   "source": [
    "# Linear Regression (Life Expectancy)"
   ]
  },
  {
   "cell_type": "markdown",
   "id": "d8b4ab3e-059c-480c-aa12-40f9e7af120f",
   "metadata": {},
   "source": [
    "Life expectancy is one of the most important indicators of a nation’s overall health and development. It reflects not only the quality of healthcare systems but also the influence of socio-economic, lifestyle, and environmental factors on human longevity. The World Health Organization (WHO) provides comprehensive data on life expectancy across countries along with various potential determinants such as adult mortality, GDP, health expenditure, education, and disease prevalence. By applying statistical techniques such as linear regression, we can quantify the relationship between these factors and life expectancy, identify the most significant predictors, and better understand how improvements in public health and policy can contribute to longer and healthier lives."
   ]
  },
  {
   "cell_type": "code",
   "execution_count": null,
   "id": "2750b8c7-5510-4698-aac3-7425be92284d",
   "metadata": {},
   "outputs": [],
   "source": [
    "#Import the libraries\n",
    "import numpy as np\n",
    "import pandas as pd\n",
    "import matplotlib.pyplot as plt\n",
    "from sklearn.model_selection import Linear"
   ]
  }
 ],
 "metadata": {
  "kernelspec": {
   "display_name": "Python [conda env:base] *",
   "language": "python",
   "name": "conda-base-py"
  },
  "language_info": {
   "codemirror_mode": {
    "name": "ipython",
    "version": 3
   },
   "file_extension": ".py",
   "mimetype": "text/x-python",
   "name": "python",
   "nbconvert_exporter": "python",
   "pygments_lexer": "ipython3",
   "version": "3.13.5"
  }
 },
 "nbformat": 4,
 "nbformat_minor": 5
}
